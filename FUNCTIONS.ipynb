{
  "nbformat": 4,
  "nbformat_minor": 0,
  "metadata": {
    "colab": {
      "provenance": []
    },
    "kernelspec": {
      "name": "python3",
      "display_name": "Python 3"
    },
    "language_info": {
      "name": "python"
    }
  },
  "cells": [
    {
      "cell_type": "markdown",
      "source": [
        "#Q1\n",
        "In Python, a function is a block of reusable code defined independently using the def keyword, which can be called directly to perform a task. A method, however, is a function that is associated with an object or class and is called on that object. For example, append() is a method of a list object, whereas a standalone add() function can be called independently. The key distinction is that methods operate on objects, while functions are standalone and independent."
      ],
      "metadata": {
        "id": "5Ixss_U1K4xV"
      }
    },
    {
      "cell_type": "markdown",
      "source": [
        "#Q2\n",
        "Parameters are the variables listed in a function definition that act as placeholders for the data the function will process, while arguments are the actual values passed to these parameters when the function is called. For instance, in def greet(name):, name is a parameter. When calling greet(\"Alice\"), \"Alice\" is the argument. This system allows functions to handle different input values dynamically and makes them reusable."
      ],
      "metadata": {
        "id": "Gchp_cGmK-7e"
      }
    },
    {
      "cell_type": "markdown",
      "source": [
        "3.Functions in Python can be defined using the def keyword or as lambda functions for concise, single-expression operations. Once defined, functions are called by using their name followed by parentheses, optionally passing arguments. For example, def square(x): return x**2 defines a regular function, and square(5) calls it. A lambda function example is lambda x: x**2, which can be used directly or inside other functions like map().\n",
        "\n"
      ],
      "metadata": {
        "id": "HZZ_2X-dLE3M"
      }
    },
    {
      "cell_type": "markdown",
      "source": [
        "4. What is the purpose of the return statement in a Python function?\n",
        "The return statement allows a function to send a value back to the caller. Without a return statement, a function returns None by default. For example, def add(a, b): return a + b returns the sum of a and b. Using return makes it possible to capture results and use them elsewhere in the program.\n",
        "\n"
      ],
      "metadata": {
        "id": "7rJdsbuvLVRF"
      }
    },
    {
      "cell_type": "markdown",
      "source": [
        "5. What are iterators in Python and how do they differ from iterables?\n",
        "An iterable is any Python object that can return its elements one at a time, such as lists, tuples, or strings. An iterator is an object that keeps track of its current position during iteration and provides elements using the next() function. While iterables can produce iterators via the iter() function, iterators themselves maintain state and produce one element at a time, making them memory-efficient for large datasets.\n",
        "\n"
      ],
      "metadata": {
        "id": "8sgD-ljILgcn"
      }
    },
    {
      "cell_type": "markdown",
      "source": [
        "6. Explain the concept of generators in Python and how they are defined.\n",
        "Generators are a special type of iterator that produces values lazily, meaning values are generated on the fly and not stored in memory. They are defined using functions with the yield keyword instead of return. Each time yield is executed, the function’s state is saved, and the next value is produced only when requested. For example, def gen(): for i in range(3): yield i creates a generator producing 0, 1, 2.\n",
        "\n"
      ],
      "metadata": {
        "id": "GBHzNoF-LlDI"
      }
    },
    {
      "cell_type": "markdown",
      "source": [
        "7. What are the advantages of using generators over regular functions?\n",
        "Generators are memory-efficient because they do not store the entire sequence in memory at once. They use lazy evaluation, producing values only when needed, which is especially useful for handling large datasets or infinite sequences. Additionally, they simplify code when working with streams of data, as the iteration logic is built into the generator function itself.\n",
        "\n"
      ],
      "metadata": {
        "id": "FRJM90drLnwJ"
      }
    },
    {
      "cell_type": "markdown",
      "source": [
        "8. What is a lambda function in Python and when is it typically used?\n",
        "A lambda function is an anonymous, single-expression function defined using the lambda keyword. It is typically used for short, throwaway functions where defining a full function with def would be unnecessary. Lambda functions are commonly used with functional programming tools such as map(), filter(), and reduce() for concise inline operations.\n",
        "\n"
      ],
      "metadata": {
        "id": "t8E0qtEWLp91"
      }
    },
    {
      "cell_type": "markdown",
      "source": [
        "9. Explain the purpose and usage of the map() function in Python.\n",
        "The map() function applies a given function to each element of an iterable and returns a map object containing the results. For example, map(lambda x: x*2, [1,2,3]) produces [2, 4, 6] when converted to a list. map() is useful for applying transformations across collections without explicitly using loops.\n",
        "\n"
      ],
      "metadata": {
        "id": "3DY2e_1mLrql"
      }
    },
    {
      "cell_type": "markdown",
      "source": [
        "10. What is the difference between map(), reduce(), and filter() functions in Python?\n",
        "map() transforms each element of an iterable, returning the same number of elements. filter() selects elements based on a condition, returning only those that satisfy it. reduce() (from functools) combines elements into a single cumulative value using a binary function. For example, reduce(lambda x, y: x+y, [1,2,3,4]) calculates ((1+2)+3)+4 = 10."
      ],
      "metadata": {
        "id": "V-PBw3VJLtEA"
      }
    },
    {
      "cell_type": "markdown",
      "source": [
        "11 ON PAPER ATTACHED TO DOC"
      ],
      "metadata": {
        "id": "1F4SCiMlMnL2"
      }
    },
    {
      "cell_type": "markdown",
      "source": [
        "# PRACICES"
      ],
      "metadata": {
        "id": "hugR0uCZMqAv"
      }
    },
    {
      "cell_type": "code",
      "source": [
        "# 1.\n",
        "def sum_even(numbers):\n",
        "    return sum(num for num in numbers if num % 2 == 0)\n",
        "\n",
        "nums = [1, 2, 3, 4, 5, 6]\n",
        "print(\"Sum of even numbers:\", sum_even(nums))\n"
      ],
      "metadata": {
        "colab": {
          "base_uri": "https://localhost:8080/"
        },
        "id": "H9apHnJmMrvv",
        "outputId": "d5e6461d-b98e-4968-e85b-858333d33eab"
      },
      "execution_count": 1,
      "outputs": [
        {
          "output_type": "stream",
          "name": "stdout",
          "text": [
            "Sum of even numbers: 12\n"
          ]
        }
      ]
    },
    {
      "cell_type": "code",
      "source": [
        "# 2.\n",
        "def reverse_string(s):\n",
        "    return s[::-1]\n",
        "\n",
        "print(\"Reverse of 'Python':\", reverse_string(\"Python\"))"
      ],
      "metadata": {
        "colab": {
          "base_uri": "https://localhost:8080/"
        },
        "id": "XtxjfBm9M-Fb",
        "outputId": "53e4777b-1212-4b54-bd3f-cb548f8269d4"
      },
      "execution_count": 2,
      "outputs": [
        {
          "output_type": "stream",
          "name": "stdout",
          "text": [
            "Reverse of 'Python': nohtyP\n"
          ]
        }
      ]
    },
    {
      "cell_type": "code",
      "source": [
        "# 3.\n",
        "def square_list(lst):\n",
        "    return [x**2 for x in lst]\n",
        "\n",
        "nums2 = [1, 2, 3, 4]\n",
        "print(\"Squares:\", square_list(nums2))"
      ],
      "metadata": {
        "colab": {
          "base_uri": "https://localhost:8080/"
        },
        "id": "rvydcXufNBO4",
        "outputId": "d869d07b-9709-4497-8bee-f3b2f29f585a"
      },
      "execution_count": 3,
      "outputs": [
        {
          "output_type": "stream",
          "name": "stdout",
          "text": [
            "Squares: [1, 4, 9, 16]\n"
          ]
        }
      ]
    },
    {
      "cell_type": "code",
      "source": [
        "# 4.\n",
        "def is_prime(n):\n",
        "    if n <= 1:\n",
        "        return False\n",
        "    for i in range(2, int(n**0.5)+1):\n",
        "        if n % i == 0:\n",
        "            return False\n",
        "    return True\n",
        "\n",
        "primes = [x for x in range(1, 201) if is_prime(x)]\n",
        "print(\"Primes from 1 to 200:\", primes)"
      ],
      "metadata": {
        "colab": {
          "base_uri": "https://localhost:8080/"
        },
        "id": "KGDC5jKDNB79",
        "outputId": "33037ee0-eb5c-4c37-aca2-ed4b56e7eba5"
      },
      "execution_count": 4,
      "outputs": [
        {
          "output_type": "stream",
          "name": "stdout",
          "text": [
            "Primes from 1 to 200: [2, 3, 5, 7, 11, 13, 17, 19, 23, 29, 31, 37, 41, 43, 47, 53, 59, 61, 67, 71, 73, 79, 83, 89, 97, 101, 103, 107, 109, 113, 127, 131, 137, 139, 149, 151, 157, 163, 167, 173, 179, 181, 191, 193, 197, 199]\n"
          ]
        }
      ]
    },
    {
      "cell_type": "code",
      "source": [
        "# 5.\n",
        "class Fibonacci:\n",
        "    def __init__(self, n_terms):\n",
        "        self.n_terms = n_terms\n",
        "        self.index = 0\n",
        "        self.a, self.b = 0, 1\n",
        "\n",
        "    def __iter__(self):\n",
        "        return self\n",
        "\n",
        "    def __next__(self):\n",
        "        if self.index >= self.n_terms:\n",
        "            raise StopIteration\n",
        "        if self.index == 0:\n",
        "            self.index += 1\n",
        "            return 0\n",
        "        elif self.index == 1:\n",
        "            self.index += 1\n",
        "            return 1\n",
        "        else:\n",
        "            self.a, self.b = self.b, self.a + self.b\n",
        "            self.index += 1\n",
        "            return self.b\n",
        "\n",
        "fib_seq = Fibonacci(10)\n",
        "print(\"Fibonacci sequence:\", list(fib_seq))\n"
      ],
      "metadata": {
        "colab": {
          "base_uri": "https://localhost:8080/"
        },
        "id": "qFFmAJ--NI1d",
        "outputId": "813518bd-7635-4054-87dc-5dcceaa5347b"
      },
      "execution_count": 5,
      "outputs": [
        {
          "output_type": "stream",
          "name": "stdout",
          "text": [
            "Fibonacci sequence: [0, 1, 1, 2, 3, 5, 8, 13, 21, 34]\n"
          ]
        }
      ]
    },
    {
      "cell_type": "code",
      "source": [
        "# 6.\n",
        "def powers_of_two(exponent):\n",
        "    for i in range(exponent + 1):\n",
        "        yield 2**i\n",
        "\n",
        "print(\"Powers of 2 up to 5:\", list(powers_of_two(5)))\n"
      ],
      "metadata": {
        "colab": {
          "base_uri": "https://localhost:8080/"
        },
        "id": "q0o99x3uNJFV",
        "outputId": "688fbd22-689e-4cdb-cfaf-852080a6f863"
      },
      "execution_count": 6,
      "outputs": [
        {
          "output_type": "stream",
          "name": "stdout",
          "text": [
            "Powers of 2 up to 5: [1, 2, 4, 8, 16, 32]\n"
          ]
        }
      ]
    },
    {
      "cell_type": "code",
      "source": [
        "# 7. Generator to read file line by line\n",
        "\n",
        "def read_file_lines(filename):\n",
        "    with open(filename, 'r') as file:\n",
        "        for line in file:\n",
        "            yield line.strip()"
      ],
      "metadata": {
        "id": "RXte7s3RNQgO"
      },
      "execution_count": 7,
      "outputs": []
    },
    {
      "cell_type": "code",
      "source": [
        "# 8. Lambda function to sort list of tuples by second element\n",
        "tuples_list = [(1, 3), (2, 1), (3, 2)]\n",
        "sorted_list = sorted(tuples_list, key=lambda x: x[1])\n",
        "print(\"Sorted by second element:\", sorted_list)"
      ],
      "metadata": {
        "colab": {
          "base_uri": "https://localhost:8080/"
        },
        "id": "pK2SMuEqNQjs",
        "outputId": "9ff687cb-10f6-4b7c-adc0-ef6ee330f4f4"
      },
      "execution_count": 8,
      "outputs": [
        {
          "output_type": "stream",
          "name": "stdout",
          "text": [
            "Sorted by second element: [(2, 1), (3, 2), (1, 3)]\n"
          ]
        }
      ]
    },
    {
      "cell_type": "code",
      "source": [
        "# 9. Convert temperatures from Celsius to Fahrenheit using map\n",
        "celsius = [0, 20, 37, 100]\n",
        "fahrenheit = list(map(lambda x: (x*9/5)+32, celsius))\n",
        "print(\"Temperatures in Fahrenheit:\", fahrenheit)"
      ],
      "metadata": {
        "colab": {
          "base_uri": "https://localhost:8080/"
        },
        "id": "O3hzk6hHNQmv",
        "outputId": "adebc349-ac35-4cc3-c09e-7e7e0167746e"
      },
      "execution_count": 9,
      "outputs": [
        {
          "output_type": "stream",
          "name": "stdout",
          "text": [
            "Temperatures in Fahrenheit: [32.0, 68.0, 98.6, 212.0]\n"
          ]
        }
      ]
    },
    {
      "cell_type": "code",
      "source": [
        "# 10. Remove vowels from a string using filter\n",
        "def remove_vowels(s):\n",
        "    vowels = 'aeiouAEIOU'\n",
        "    return ''.join(filter(lambda x: x not in vowels, s))\n",
        "\n",
        "print(\"String without vowels:\", remove_vowels(\"Hello World\"))"
      ],
      "metadata": {
        "colab": {
          "base_uri": "https://localhost:8080/"
        },
        "id": "kyb0akeENZ6Y",
        "outputId": "67c402d3-b9ee-42cd-b928-3fcb791bf860"
      },
      "execution_count": 10,
      "outputs": [
        {
          "output_type": "stream",
          "name": "stdout",
          "text": [
            "String without vowels: Hll Wrld\n"
          ]
        }
      ]
    },
    {
      "cell_type": "code",
      "source": [
        "orders = [\n",
        "    (1001, 10.00, 5),   # Total: 50.00 (below 100, so +10)\n",
        "    (1002, 15.00, 2),   # Total: 30.00 (below 100, so +10)\n",
        "    (1003, 12.00, 10),  # Total: 120.00 (above 100, no change)\n",
        "    (1004, 25.00, 3),   # Total: 75.00 (below 100, so +10)\n",
        "    (1005, 8.00, 20)    # Total: 160.00 (above 100, no change)\n",
        "]\n",
        "\n",
        "# Use the map() function with a lambda expression to process the list.\n",
        "# The lambda function takes an individual 'order' tuple as input.\n",
        "# It first calculates the raw total and then uses a ternary operator\n",
        "# to add 10 if the total is less than 100.\n",
        "processed_orders = list(\n",
        "    map(\n",
        "        lambda order: (\n",
        "            order[0], # The order number\n",
        "            (order[1] * order[2]) + 10.00 if (order[1] * order[2]) < 100.00 else (order[1] * order[2]) # The adjusted total\n",
        "        ),\n",
        "        orders\n",
        "    )\n",
        ")\n",
        "\n",
        "print(processed_orders)\n",
        "\n",
        "\n"
      ],
      "metadata": {
        "colab": {
          "base_uri": "https://localhost:8080/"
        },
        "id": "C7jnp3VpOU_L",
        "outputId": "199c8f17-9176-4056-b14c-5a5dfe234957"
      },
      "execution_count": 11,
      "outputs": [
        {
          "output_type": "stream",
          "name": "stdout",
          "text": [
            "[(1001, 60.0), (1002, 40.0), (1003, 120.0), (1004, 85.0), (1005, 160.0)]\n"
          ]
        }
      ]
    }
  ]
}