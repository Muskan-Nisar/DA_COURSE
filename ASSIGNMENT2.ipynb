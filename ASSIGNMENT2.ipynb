{
  "nbformat": 4,
  "nbformat_minor": 0,
  "metadata": {
    "colab": {
      "provenance": []
    },
    "kernelspec": {
      "name": "python3",
      "display_name": "Python 3"
    },
    "language_info": {
      "name": "python"
    }
  },
  "cells": [
    {
      "cell_type": "markdown",
      "source": [
        "**Q1**\n",
        "Data structures are ways to organize and store data efficiently in memory.They allow faster data access, modification, searching, and management."
      ],
      "metadata": {
        "id": "fIM5-KcWjYFd"
      }
    },
    {
      "cell_type": "markdown",
      "source": [
        "**Q2**\n",
        "Mutable Data Types are objects that can be changed after creation (you can modify, add, or remove elements without creating a new object).If you change them, the same object in memory is updated.\n",
        "eg:list, dict, set\n",
        "\n",
        "Immutable data types are objects that cannot be changed after creation. Any modification creates a new object in memory.\n",
        "example:int, float, str, tuple, bool."
      ],
      "metadata": {
        "id": "iAntu3sijjJS"
      }
    },
    {
      "cell_type": "code",
      "source": [
        "#mutable data type eg:\n",
        "my_list = [1, 2, 3]\n",
        "print(id(my_list))   # memory address before change\n",
        "\n",
        "my_list[1] = 10      # modifying element\n",
        "print(my_list)       # [1, 10, 3]\n",
        "print(id(my_list))   # same memory address → modified in place\n"
      ],
      "metadata": {
        "colab": {
          "base_uri": "https://localhost:8080/"
        },
        "id": "uwQaZy2tkOtm",
        "outputId": "ce399b70-af3c-4a90-d9b3-a172034a2a3a"
      },
      "execution_count": 3,
      "outputs": [
        {
          "output_type": "stream",
          "name": "stdout",
          "text": [
            "134888483335040\n",
            "[1, 10, 3]\n",
            "134888483335040\n"
          ]
        }
      ]
    },
    {
      "cell_type": "code",
      "source": [
        "#immutable\n",
        "my_str = \"hello\"\n",
        "print(id(my_str))    # memory address before change\n",
        "\n",
        "my_str = my_str + \" world\"   # creates a new string\n",
        "print(my_str)        # \"hello world\"\n",
        "print(id(my_str))    # different memory address → new object created\n"
      ],
      "metadata": {
        "colab": {
          "base_uri": "https://localhost:8080/"
        },
        "id": "LL9qReg0kU7j",
        "outputId": "a6b7ae69-fbe4-42f4-a248-2b161524eb8a"
      },
      "execution_count": 4,
      "outputs": [
        {
          "output_type": "stream",
          "name": "stdout",
          "text": [
            "134888669513168\n",
            "hello world\n",
            "134888483368112\n"
          ]
        }
      ]
    },
    {
      "cell_type": "markdown",
      "source": [
        "**Q3**\n",
        "In Python, the main difference between lists and tuples lies in their mutability. Lists are mutable, meaning their elements can be added, removed, or modified after creation, while tuples are immutable, meaning their contents cannot be changed once defined. Lists are created using square brackets [ ], whereas tuples are created using parentheses ( ). Because of their immutability, tuples are generally faster and more memory-efficient than lists, making them suitable for storing fixed data such as coordinates or configuration values. Lists, on the other hand, are more versatile and offer a wide range of methods like .append(), .remove(), and .sort(), which allow dynamic modification of data. Tuples support only limited methods such as .count() and .index(). Another key difference is that lists are not hashable and cannot be used as dictionary keys, while tuples can serve as dictionary keys provided all their elements are immutable. In practice, lists are preferred for collections that require frequent modifications, whereas tuples are used when data should remain constant to ensure data integrity."
      ],
      "metadata": {
        "id": "HIeRwvWDkakv"
      }
    },
    {
      "cell_type": "markdown",
      "source": [
        "**Q4**\n",
        "Dictionaries in Python store data as key–value pairs using a hash table. When a key is added, Python hashes it to find a memory location where the value is stored. This makes lookups very fast (average O(1) time). Keys must be immutable and hashable (like strings, numbers, or tuples), while values can be any type."
      ],
      "metadata": {
        "id": "cvPaPJfAksth"
      }
    },
    {
      "cell_type": "markdown",
      "source": [
        "**Q5**A set is used instead of a list when you need to store unique elements and perform fast membership checks. Unlike lists, sets automatically remove duplicates and use hashing, making lookups much faster on average."
      ],
      "metadata": {
        "id": "Q6lPTlYjk5cH"
      }
    },
    {
      "cell_type": "markdown",
      "source": [
        "**Q6**A string in Python is an immutable sequence of characters, while a list is a mutable sequence that can hold elements of any data type. This means strings cannot be changed after creation, but lists can be modified (elements added, removed, or updated)."
      ],
      "metadata": {
        "id": "Ee4escwBlBvX"
      }
    },
    {
      "cell_type": "markdown",
      "source": [
        "**Q7**\n",
        "Tuples in Python ensure data integrity because they are immutable, meaning once created, their values cannot be changed. This makes them ideal for storing fixed data, like coordinates or keys in a dictionary. A hash table is a data structure that maps keys to values using a hash function, and Python dictionaries are implemented using hash tables for fast key-based access. Lists in Python can contain different data types, allowing a mix of integers, strings, floats, or even other lists. Strings are immutable to ensure performance, thread-safety, and consistent behavior, since their contents cannot change once created."
      ],
      "metadata": {
        "id": "ZmfrtoQdx1uw"
      }
    },
    {
      "cell_type": "markdown",
      "source": [
        "**Q8**\n",
        "A hash table is a data structure that stores data as key–value pairs and uses a hash function to map each key to a specific location in memory. Python dictionaries are implemented using hash tables, which allows them to access, insert, or delete values quickly using keys (average O(1) time)."
      ],
      "metadata": {
        "id": "GhCKJ1f8y3-0"
      }
    },
    {
      "cell_type": "markdown",
      "source": [
        "**Q9**\n",
        "Yes, lists in Python can contain different data types in the same list, such as integers, strings, floats, or even other lists."
      ],
      "metadata": {
        "id": "O5gJyLYdy8IQ"
      }
    },
    {
      "cell_type": "markdown",
      "source": [
        "**Q10**\n",
        "Strings are immutable in Python, meaning they cannot be changed after creation. This ensures data consistency, thread-safety, and better performance, since immutable objects can be safely reused and cached."
      ],
      "metadata": {
        "id": "TWRznQ3LzAZV"
      }
    },
    {
      "cell_type": "markdown",
      "source": [
        "Q11 Dictionaries offer advantages over lists when you need fast access to values using keys, meaningful key–value organization, and when searching by identifier is more efficient than by position."
      ],
      "metadata": {
        "id": "zy7PZYn1zmuj"
      }
    },
    {
      "cell_type": "markdown",
      "source": [
        "**Q12**\n",
        "A tuple is preferable over a list when you need fixed, unchangeable data. For example, storing a person’s birthdate or geographical coordinates (latitude, longitude) ensures the values remain constant."
      ],
      "metadata": {
        "id": "3JgtRlEVzmx_"
      }
    },
    {
      "cell_type": "markdown",
      "source": [
        "**Q13**\n",
        "Sets automatically remove duplicate values, so only unique elements are stored, regardless of how many times a value is added."
      ],
      "metadata": {
        "id": "prvqzY460CQw"
      }
    },
    {
      "cell_type": "markdown",
      "source": [
        "**Q14**The “in” keyword behaves differently: in a list, it checks if a value exists among elements, while in a dictionary, it checks if a key exists, not the value."
      ],
      "metadata": {
        "id": "K20SBcW20DD2"
      }
    },
    {
      "cell_type": "markdown",
      "source": [
        "**Q15**You cannot modify the elements of a tuple because tuples are immutable. Any attempt to change, add, or remove elements will raise an error"
      ],
      "metadata": {
        "id": "D7Ukk51u0EB2"
      }
    },
    {
      "cell_type": "markdown",
      "source": [
        "**Q16**\n",
        "A nested dictionary is a dictionary that contains another dictionary as a value. It is useful for storing complex structured data, such as:\n",
        "students = {\n",
        "    \"Alice\": {\"age\": 20, \"grade\": \"A\"},\n",
        "    \"Bob\": {\"age\": 21, \"grade\": \"B\"}\n",
        "}\n"
      ],
      "metadata": {
        "id": "A4807K200E2k"
      }
    },
    {
      "cell_type": "markdown",
      "source": [
        "**Q17** Accessing elements in a dictionary has an average time complexity of O(1) due to hashing, making lookups very fast."
      ],
      "metadata": {
        "id": "pLWsuUT60GW5"
      }
    },
    {
      "cell_type": "markdown",
      "source": [
        "**Q18**\n",
        "Lists are preferred over dictionaries when order matters, duplicates are allowed, or sequential access is needed, such as storing a sequence of events or scores."
      ],
      "metadata": {
        "id": "bqu-gINb0HF_"
      }
    },
    {
      "cell_type": "markdown",
      "source": [
        "**Q19**\n",
        "Dictionaries are considered unordered (in versions before Python 3.7) because elements are stored by key hash rather than position. This means retrieval is key-based, not index-based, although Python 3.7+ preserves insertion order"
      ],
      "metadata": {
        "id": "ZYbW_fjV1eAl"
      }
    },
    {
      "cell_type": "markdown",
      "source": [
        "**Q20**\n",
        "The key difference in data retrieval is that lists use numeric indices to access elements (lst[0]), while dictionaries use keys (dict[\"name\"]) to retrieve values, allowing more meaningful and direct access"
      ],
      "metadata": {
        "id": "dKzmG_D00H3f"
      }
    },
    {
      "cell_type": "markdown",
      "source": [
        "# Practical Questions"
      ],
      "metadata": {
        "id": "EIVLnict1lq7"
      }
    },
    {
      "cell_type": "code",
      "source": [
        "#Q1\n",
        "name = \"Muskan\"\n",
        "print(name)"
      ],
      "metadata": {
        "colab": {
          "base_uri": "https://localhost:8080/"
        },
        "id": "B4Srwpfi1prq",
        "outputId": "d308bd77-e13d-4494-d6c0-a68425ea9d0a"
      },
      "execution_count": 6,
      "outputs": [
        {
          "output_type": "stream",
          "name": "stdout",
          "text": [
            "Muskan\n"
          ]
        }
      ]
    },
    {
      "cell_type": "code",
      "source": [
        "#Q2\n",
        "string1 = \"Hello World\"\n",
        "print(len(string1))"
      ],
      "metadata": {
        "colab": {
          "base_uri": "https://localhost:8080/"
        },
        "id": "kOr-BRI84cmP",
        "outputId": "48d140a7-bf7f-45db-c0e7-3f924e62bcf0"
      },
      "execution_count": 7,
      "outputs": [
        {
          "output_type": "stream",
          "name": "stdout",
          "text": [
            "11\n"
          ]
        }
      ]
    },
    {
      "cell_type": "code",
      "source": [
        "#Q3\n",
        "string2 = \"Python Programming\"\n",
        "print(string2[:3])"
      ],
      "metadata": {
        "colab": {
          "base_uri": "https://localhost:8080/"
        },
        "id": "rcuQGHXc4gz2",
        "outputId": "537b420d-83c6-4589-9345-749e5eeea651"
      },
      "execution_count": 8,
      "outputs": [
        {
          "output_type": "stream",
          "name": "stdout",
          "text": [
            "Pyt\n"
          ]
        }
      ]
    },
    {
      "cell_type": "code",
      "source": [
        "#Q4\n",
        "string3 = \"hello\"\n",
        "print(string3.upper())"
      ],
      "metadata": {
        "colab": {
          "base_uri": "https://localhost:8080/"
        },
        "id": "jR5jNjWU4k-6",
        "outputId": "f727f675-2b4f-4ef9-f485-2dbd2e3421df"
      },
      "execution_count": 9,
      "outputs": [
        {
          "output_type": "stream",
          "name": "stdout",
          "text": [
            "HELLO\n"
          ]
        }
      ]
    },
    {
      "cell_type": "code",
      "source": [
        "#Q5\n",
        "string4 = \"I like apple\"\n",
        "print(string4.replace(\"apple\", \"orange\"))"
      ],
      "metadata": {
        "colab": {
          "base_uri": "https://localhost:8080/"
        },
        "id": "1dqEfuCv4oY_",
        "outputId": "4b9ba44a-0af5-4695-a6ca-a9297387c333"
      },
      "execution_count": 10,
      "outputs": [
        {
          "output_type": "stream",
          "name": "stdout",
          "text": [
            "I like orange\n"
          ]
        }
      ]
    },
    {
      "cell_type": "code",
      "source": [
        "#Q6\n",
        "numbers = [1, 2, 3, 4, 5]\n",
        "print(numbers)"
      ],
      "metadata": {
        "colab": {
          "base_uri": "https://localhost:8080/"
        },
        "id": "VoVGOSUg4r9d",
        "outputId": "69f1d9ee-0af9-46cd-de06-9e1090fff332"
      },
      "execution_count": 11,
      "outputs": [
        {
          "output_type": "stream",
          "name": "stdout",
          "text": [
            "[1, 2, 3, 4, 5]\n"
          ]
        }
      ]
    },
    {
      "cell_type": "code",
      "source": [
        "#Q7\n",
        "lst = [1, 2, 3, 4]\n",
        "lst.append(10)\n",
        "print(lst)"
      ],
      "metadata": {
        "colab": {
          "base_uri": "https://localhost:8080/"
        },
        "id": "k3YAqwOC4v8q",
        "outputId": "14ba2011-7a10-41f2-b3f1-51ad0590cc36"
      },
      "execution_count": 12,
      "outputs": [
        {
          "output_type": "stream",
          "name": "stdout",
          "text": [
            "[1, 2, 3, 4, 10]\n"
          ]
        }
      ]
    },
    {
      "cell_type": "code",
      "source": [
        "#Q8\n",
        "lst2 = [1, 2, 3, 4, 5]\n",
        "lst2.remove(3)\n",
        "print(lst2)"
      ],
      "metadata": {
        "colab": {
          "base_uri": "https://localhost:8080/"
        },
        "id": "XyYWW8lR4zfR",
        "outputId": "d993950f-85a3-4cc7-b14c-0f25a0d130c5"
      },
      "execution_count": 13,
      "outputs": [
        {
          "output_type": "stream",
          "name": "stdout",
          "text": [
            "[1, 2, 4, 5]\n"
          ]
        }
      ]
    },
    {
      "cell_type": "code",
      "source": [
        "#Q9\n",
        "lst3 = ['a', 'b', 'c', 'd']\n",
        "print(lst3[1])"
      ],
      "metadata": {
        "colab": {
          "base_uri": "https://localhost:8080/"
        },
        "id": "XXDg7bnS44A_",
        "outputId": "6847aff9-e029-4f7a-b311-235d9593a129"
      },
      "execution_count": 14,
      "outputs": [
        {
          "output_type": "stream",
          "name": "stdout",
          "text": [
            "b\n"
          ]
        }
      ]
    },
    {
      "cell_type": "code",
      "source": [
        "#Q10\n",
        "lst4 = [10, 20, 30, 40, 50]\n",
        "lst4.reverse()\n",
        "print(lst4)"
      ],
      "metadata": {
        "colab": {
          "base_uri": "https://localhost:8080/"
        },
        "id": "pBjr-Ujx49Kk",
        "outputId": "94e0f7a4-0339-43a9-e9f3-50c68f159f01"
      },
      "execution_count": 15,
      "outputs": [
        {
          "output_type": "stream",
          "name": "stdout",
          "text": [
            "[50, 40, 30, 20, 10]\n"
          ]
        }
      ]
    },
    {
      "cell_type": "code",
      "source": [
        "#Q11\n",
        "tup1 = (100, 200, 300)\n",
        "print(tup1)"
      ],
      "metadata": {
        "colab": {
          "base_uri": "https://localhost:8080/"
        },
        "id": "TspT7D7F5B15",
        "outputId": "9c09bac3-bdce-40dd-9a1f-e40e081b1d38"
      },
      "execution_count": 17,
      "outputs": [
        {
          "output_type": "stream",
          "name": "stdout",
          "text": [
            "(100, 200, 300)\n"
          ]
        }
      ]
    },
    {
      "cell_type": "code",
      "source": [
        "#Q12\n",
        "tup2 = ('red', 'green', 'blue', 'yellow')\n",
        "print(tup2[-2])"
      ],
      "metadata": {
        "colab": {
          "base_uri": "https://localhost:8080/"
        },
        "id": "s8ak6ocM5L6a",
        "outputId": "c2d0af99-1989-47be-b3ef-3716221a96c7"
      },
      "execution_count": 18,
      "outputs": [
        {
          "output_type": "stream",
          "name": "stdout",
          "text": [
            "blue\n"
          ]
        }
      ]
    },
    {
      "cell_type": "code",
      "source": [
        "# Q13\n",
        "tup3 = (10, 20, 5, 15)\n",
        "print(min(tup3))"
      ],
      "metadata": {
        "colab": {
          "base_uri": "https://localhost:8080/"
        },
        "id": "tfvmOvPR5Qij",
        "outputId": "cee84777-f222-4dba-8f7e-7c3abfd699cf"
      },
      "execution_count": 19,
      "outputs": [
        {
          "output_type": "stream",
          "name": "stdout",
          "text": [
            "5\n"
          ]
        }
      ]
    },
    {
      "cell_type": "code",
      "source": [
        "# 14.\n",
        "tup4 = ('dog', 'cat', 'rabbit')\n",
        "print(tup4.index('cat'))"
      ],
      "metadata": {
        "colab": {
          "base_uri": "https://localhost:8080/"
        },
        "id": "b341Faju5WA3",
        "outputId": "fda4e729-0432-47eb-aec3-c45cab55bc9e"
      },
      "execution_count": 20,
      "outputs": [
        {
          "output_type": "stream",
          "name": "stdout",
          "text": [
            "1\n"
          ]
        }
      ]
    },
    {
      "cell_type": "code",
      "source": [
        "# 15.\n",
        "fruits = ('apple', 'banana', 'mango')\n",
        "print(\"kiwi\" in fruits)\n",
        "\n"
      ],
      "metadata": {
        "colab": {
          "base_uri": "https://localhost:8080/"
        },
        "id": "R6cJt25S5Z9o",
        "outputId": "12874b51-23a5-415a-e77e-a1446cf3cbee"
      },
      "execution_count": 21,
      "outputs": [
        {
          "output_type": "stream",
          "name": "stdout",
          "text": [
            "False\n"
          ]
        }
      ]
    },
    {
      "cell_type": "code",
      "source": [
        "# 16.\n",
        "set1 = {'a', 'b', 'c'}\n",
        "print(set1)\n",
        "\n"
      ],
      "metadata": {
        "colab": {
          "base_uri": "https://localhost:8080/"
        },
        "id": "-UNzmpGt5g5w",
        "outputId": "583c95be-45a7-4cef-cc05-0ae93a7ac5d6"
      },
      "execution_count": 22,
      "outputs": [
        {
          "output_type": "stream",
          "name": "stdout",
          "text": [
            "{'c', 'a', 'b'}\n"
          ]
        }
      ]
    },
    {
      "cell_type": "code",
      "source": [
        "# 17.\n",
        "set2 = {1, 2, 3, 4, 5}\n",
        "set2.clear()\n",
        "print(set2)\n"
      ],
      "metadata": {
        "colab": {
          "base_uri": "https://localhost:8080/"
        },
        "id": "ODwhXH3J5j-u",
        "outputId": "1a7231b2-ae82-4cd5-ceb6-3e311cdd0a42"
      },
      "execution_count": 23,
      "outputs": [
        {
          "output_type": "stream",
          "name": "stdout",
          "text": [
            "set()\n"
          ]
        }
      ]
    },
    {
      "cell_type": "code",
      "source": [
        "# 18.\n",
        "set3 = {1, 2, 3, 4}\n",
        "set3.remove(4)\n",
        "print(set3)"
      ],
      "metadata": {
        "colab": {
          "base_uri": "https://localhost:8080/"
        },
        "id": "d7KB0Dw15rA6",
        "outputId": "4b2ca394-a3df-4630-c856-78c521565f1d"
      },
      "execution_count": 24,
      "outputs": [
        {
          "output_type": "stream",
          "name": "stdout",
          "text": [
            "{1, 2, 3}\n"
          ]
        }
      ]
    },
    {
      "cell_type": "code",
      "source": [
        "# 19.\n",
        "set4 = {1, 2, 3}\n",
        "set5 = {3, 4, 5}\n",
        "print(set4.union(set5))"
      ],
      "metadata": {
        "colab": {
          "base_uri": "https://localhost:8080/"
        },
        "id": "mvKfEP6P5sze",
        "outputId": "5346583f-b034-4ef6-dd16-15d71c7cd6a3"
      },
      "execution_count": 25,
      "outputs": [
        {
          "output_type": "stream",
          "name": "stdout",
          "text": [
            "{1, 2, 3, 4, 5}\n"
          ]
        }
      ]
    },
    {
      "cell_type": "code",
      "source": [
        "# 20.\n",
        "print(set4.intersection(set5))"
      ],
      "metadata": {
        "colab": {
          "base_uri": "https://localhost:8080/"
        },
        "id": "M9gDWYsG5xAu",
        "outputId": "17ea68d0-a114-4d83-8a1e-7aad1e849ec8"
      },
      "execution_count": 26,
      "outputs": [
        {
          "output_type": "stream",
          "name": "stdout",
          "text": [
            "{3}\n"
          ]
        }
      ]
    },
    {
      "cell_type": "code",
      "source": [
        "# 21.\n",
        "dict1 = {\"name\": \"Alice\", \"age\": 25, \"city\": \"Paris\"}\n",
        "print(dict1)"
      ],
      "metadata": {
        "colab": {
          "base_uri": "https://localhost:8080/"
        },
        "id": "cHprakOI51e3",
        "outputId": "1512b9bb-7f09-4a26-be13-9bb8755c52ff"
      },
      "execution_count": 27,
      "outputs": [
        {
          "output_type": "stream",
          "name": "stdout",
          "text": [
            "{'name': 'Alice', 'age': 25, 'city': 'Paris'}\n"
          ]
        }
      ]
    },
    {
      "cell_type": "code",
      "source": [
        "# 22.\n",
        "dict2 = {'name': 'John', 'age': 25}\n",
        "dict2['country'] = 'USA'\n",
        "print(dict2)\n",
        "\n",
        "\n"
      ],
      "metadata": {
        "colab": {
          "base_uri": "https://localhost:8080/"
        },
        "id": "skwrhqO95_gZ",
        "outputId": "5b01fe75-5787-4427-82be-5dc0d31c6d37"
      },
      "execution_count": 28,
      "outputs": [
        {
          "output_type": "stream",
          "name": "stdout",
          "text": [
            "{'name': 'John', 'age': 25, 'country': 'USA'}\n"
          ]
        }
      ]
    },
    {
      "cell_type": "code",
      "source": [
        "# 23.\n",
        "dict3 = {'name': 'Alice', 'age': 30}\n",
        "print(dict3['name'])\n",
        "\n"
      ],
      "metadata": {
        "colab": {
          "base_uri": "https://localhost:8080/"
        },
        "id": "K8cid9kj6FOo",
        "outputId": "de426d3c-f2ce-403b-b01c-653da20f66da"
      },
      "execution_count": 29,
      "outputs": [
        {
          "output_type": "stream",
          "name": "stdout",
          "text": [
            "Alice\n"
          ]
        }
      ]
    },
    {
      "cell_type": "code",
      "source": [
        "# 24.\n",
        "dict4 = {'name': 'Bob', 'age': 22, 'city': 'New York'}\n",
        "dict4.pop('age')\n",
        "print(dict4)\n",
        "\n"
      ],
      "metadata": {
        "colab": {
          "base_uri": "https://localhost:8080/"
        },
        "id": "Iocmv5wn6Gqr",
        "outputId": "07d013cf-45ac-4ae0-b540-8a1d6e39930c"
      },
      "execution_count": 30,
      "outputs": [
        {
          "output_type": "stream",
          "name": "stdout",
          "text": [
            "{'name': 'Bob', 'city': 'New York'}\n"
          ]
        }
      ]
    },
    {
      "cell_type": "code",
      "source": [
        "# 25.\n",
        "dict5 = {'name': 'Alice', 'city': 'Paris'}\n",
        "print('city' in dict5)"
      ],
      "metadata": {
        "colab": {
          "base_uri": "https://localhost:8080/"
        },
        "id": "chvmy4Mi6IfU",
        "outputId": "b4ca71db-9aea-4de8-b744-eac01e8a55d1"
      },
      "execution_count": 31,
      "outputs": [
        {
          "output_type": "stream",
          "name": "stdout",
          "text": [
            "True\n"
          ]
        }
      ]
    },
    {
      "cell_type": "code",
      "source": [
        "# 26.\n",
        "lst = [1, 2, 3]\n",
        "tup = (4, 5, 6)\n",
        "dict6 = {'a': 10, 'b': 20}\n",
        "print(lst, tup, dict6)\n",
        "\n"
      ],
      "metadata": {
        "colab": {
          "base_uri": "https://localhost:8080/"
        },
        "id": "_pQqFRj06NUn",
        "outputId": "d946fad3-e7c7-4440-eadf-78ab4bf059e6"
      },
      "execution_count": 32,
      "outputs": [
        {
          "output_type": "stream",
          "name": "stdout",
          "text": [
            "[1, 2, 3] (4, 5, 6) {'a': 10, 'b': 20}\n"
          ]
        }
      ]
    },
    {
      "cell_type": "code",
      "source": [
        "# 27.\n",
        "import random\n",
        "rand_list = [random.randint(1, 100) for _ in range(5)]\n",
        "rand_list.sort()\n",
        "print(rand_list)\n",
        "\n"
      ],
      "metadata": {
        "colab": {
          "base_uri": "https://localhost:8080/"
        },
        "id": "Dy6d-QsZ6TPA",
        "outputId": "db31432c-0349-40f4-fe1c-8573dacf38e2"
      },
      "execution_count": 33,
      "outputs": [
        {
          "output_type": "stream",
          "name": "stdout",
          "text": [
            "[6, 14, 40, 70, 93]\n"
          ]
        }
      ]
    },
    {
      "cell_type": "code",
      "source": [
        "# 28.\n",
        "str_list = ['apple', 'banana', 'cherry', 'date', 'fig']\n",
        "print(str_list[3])\n"
      ],
      "metadata": {
        "colab": {
          "base_uri": "https://localhost:8080/"
        },
        "id": "o7bxPjQd6VMM",
        "outputId": "7e6238dc-07ce-4bfd-ae12-86465a9bba69"
      },
      "execution_count": 34,
      "outputs": [
        {
          "output_type": "stream",
          "name": "stdout",
          "text": [
            "date\n"
          ]
        }
      ]
    },
    {
      "cell_type": "code",
      "source": [
        "\n",
        "# 29.\n",
        "dict7 = {'x': 1, 'y': 2}\n",
        "dict8 = {'y': 3, 'z': 4}\n",
        "dict7.update(dict8)\n",
        "print(dict7)\n",
        "\n"
      ],
      "metadata": {
        "colab": {
          "base_uri": "https://localhost:8080/"
        },
        "id": "iGxz1jMd6XER",
        "outputId": "05698cbb-9602-4f12-b867-f7c8561954e2"
      },
      "execution_count": 35,
      "outputs": [
        {
          "output_type": "stream",
          "name": "stdout",
          "text": [
            "{'x': 1, 'y': 3, 'z': 4}\n"
          ]
        }
      ]
    },
    {
      "cell_type": "code",
      "source": [
        "# 30.\n",
        "str_list2 = ['apple', 'banana', 'apple', 'cherry']\n",
        "str_set = set(str_list2)\n",
        "print(str_set)"
      ],
      "metadata": {
        "colab": {
          "base_uri": "https://localhost:8080/"
        },
        "id": "ces_mRCx6YbH",
        "outputId": "10fdca2c-1ace-4b6c-892c-56df7e39625f"
      },
      "execution_count": 36,
      "outputs": [
        {
          "output_type": "stream",
          "name": "stdout",
          "text": [
            "{'apple', 'cherry', 'banana'}\n"
          ]
        }
      ]
    }
  ]
}