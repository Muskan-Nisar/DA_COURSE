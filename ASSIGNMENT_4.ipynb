{
  "nbformat": 4,
  "nbformat_minor": 0,
  "metadata": {
    "colab": {
      "provenance": []
    },
    "kernelspec": {
      "name": "python3",
      "display_name": "Python 3"
    },
    "language_info": {
      "name": "python"
    }
  },
  "cells": [
    {
      "cell_type": "markdown",
      "source": [
        "#Q1\n",
        "Object-Oriented Programming is a paradigm that organizes code into objects which bundle data (attributes) and functionality (methods). It emphasizes concepts like encapsulation, inheritance, polymorphism, and abstraction."
      ],
      "metadata": {
        "id": "zM7xVIjsO0Gj"
      }
    },
    {
      "cell_type": "markdown",
      "source": [
        "#Q2\n",
        "\n",
        "A class is a blueprint or template for creating objects. It defines attributes (variables) and methods (functions) that describe the behavior of objects created from it.\n"
      ],
      "metadata": {
        "id": "p84Rjf-IO39W"
      }
    },
    {
      "cell_type": "markdown",
      "source": [
        "#Q3\n",
        "\n",
        "An object is an instance of a class. It represents a specific entity with its own data values but follows the structure defined by the class."
      ],
      "metadata": {
        "id": "f6NuEabMO9I5"
      }
    },
    {
      "cell_type": "markdown",
      "source": [
        "#Q4\n",
        "Abstraction: Hides implementation details and shows only essential features (e.g., using interfaces or abstract classes).\n",
        "\n",
        "Encapsulation: Restricts direct access to data by bundling variables and methods inside a class and controlling access via getters/setters."
      ],
      "metadata": {
        "id": "MRBgjVotO_NS"
      }
    },
    {
      "cell_type": "markdown",
      "source": [
        "#Q5\n",
        "Inheritance allows a class (child/subclass) to acquire properties and methods of another class (parent/superclass), enabling code reuse and extensibility."
      ],
      "metadata": {
        "id": "WMXl71wPPDlN"
      }
    },
    {
      "cell_type": "markdown",
      "source": [
        "#Q6\n",
        "Polymorphism means \"many forms\" — the ability of different classes to implement the same method in different ways. Example: different shapes implementing a common .area() method."
      ],
      "metadata": {
        "id": "bs1rqSvCPKPK"
      }
    },
    {
      "cell_type": "markdown",
      "source": [
        "#Q7\n",
        "It promotes flexibility and code reusability by allowing one interface to work with different underlying forms (e.g., duck typing in Python)."
      ],
      "metadata": {
        "id": "J8-89YNOPNs4"
      }
    },
    {
      "cell_type": "markdown",
      "source": [
        "#q7\n",
        "\"Dunder\" methods (double underscore, like __init__, __str__, __len__) are special methods in Python that allow operator overloading and define object behavior in built-in operations"
      ],
      "metadata": {
        "id": "sIgLSFrgPERi"
      }
    },
    {
      "cell_type": "markdown",
      "source": [
        "#Q8\n",
        "By convention:\n",
        "\n",
        "_variable → protected (intended for internal use).\n",
        "\n",
        "__variable → private (name-mangled to prevent direct access).\n",
        "Additionally, encapsulation is managed using getters and setters with @property."
      ],
      "metadata": {
        "id": "N5xIwVZTPVPC"
      }
    },
    {
      "cell_type": "markdown",
      "source": [
        "#Q9\n",
        "__init__() is the constructor method automatically called when an object is created. It initializes the object’s attributes."
      ],
      "metadata": {
        "id": "RsXxggIyPbbd"
      }
    },
    {
      "cell_type": "markdown",
      "source": [
        "#Q10\n",
        "Class method (@classmethod) → bound to the class, not an instance; takes cls as the first argument.\n",
        "\n",
        "Static method (@staticmethod) → does not take self or cls; behaves like a normal function but is grouped inside the class for logical organization."
      ],
      "metadata": {
        "id": "pEWIYIHKPfXh"
      }
    },
    {
      "cell_type": "markdown",
      "source": [
        "#Q11\n",
        "Python does not support traditional method overloading (same method name, different parameters). Instead, it’s simulated with default arguments or variable-length arguments (*args, **kwargs)."
      ],
      "metadata": {
        "id": "_pYkB1xiPiHl"
      }
    },
    {
      "cell_type": "markdown",
      "source": [
        "#Q12\n",
        "When a subclass defines a method with the same name as a method in the parent class, it overrides the parent’s version."
      ],
      "metadata": {
        "id": "ZhLRSrCqPmTg"
      }
    },
    {
      "cell_type": "markdown",
      "source": [
        "#Q13\n",
        "@property is used to turn a method into a getter so it can be accessed like an attribute. Combined with @<name>.setter, it controls how attributes are read/written."
      ],
      "metadata": {
        "id": "xsXEzLSyPpAO"
      }
    },
    {
      "cell_type": "markdown",
      "source": [
        "#Q14\n",
        "Polymorphism is important in OOP because it allows the same interface (method name) to work with different data types or objects, making code more flexible, reusable, and easier to maintain."
      ],
      "metadata": {
        "id": "SBC8qR9HRRHG"
      }
    },
    {
      "cell_type": "markdown",
      "source": [
        "#Q15\n",
        "A class containing one or more abstract methods (declared but not implemented). Defined using the abc module, it cannot be instantiated directly."
      ],
      "metadata": {
        "id": "EBnb2AEePsq2"
      }
    },
    {
      "cell_type": "markdown",
      "source": [
        "#Q16\n",
        "Reusability – Write once, use many times.\n",
        "\n",
        "Encapsulation – Protects data, hides details.\n",
        "\n",
        "Abstraction – Shows only essential features.\n",
        "\n",
        "Inheritance – Reuse and extend existing code.\n",
        "\n",
        "Polymorphism – One interface, many implementations.\n",
        "\n",
        "Maintainability – Easier to debug and update.\n",
        "\n",
        "Scalability – Easy to expand for bigger projects."
      ],
      "metadata": {
        "id": "a7zHaFNPRF6L"
      }
    },
    {
      "cell_type": "markdown",
      "source": [
        "#Q17\n",
        "Class variable: Shared by all objects of the class, defined at the class level.\n",
        "\n",
        "Instance variable: Unique to each object, usually defined in __init__."
      ],
      "metadata": {
        "id": "RnpG_OyuPwf6"
      }
    },
    {
      "cell_type": "markdown",
      "source": [
        "#Q18\n",
        "A class can inherit from more than one class. Python resolves method conflicts using the Method Resolution Order (MRO)."
      ],
      "metadata": {
        "id": "FCyaJhbeP0tm"
      }
    },
    {
      "cell_type": "markdown",
      "source": [
        "#Q19\n",
        "__str__: Returns a human-readable string (used by print()).\n",
        "\n",
        "__repr__: Returns a developer-oriented string (used in debugging, REPL)."
      ],
      "metadata": {
        "id": "pmN_Vd21P6ac"
      }
    },
    {
      "cell_type": "markdown",
      "source": [
        "#Q20\n",
        "super() is used to call a method from the parent class, often in constructors to reuse initialization logic."
      ],
      "metadata": {
        "id": "W-540LHsQBci"
      }
    },
    {
      "cell_type": "markdown",
      "source": [
        "#Q21\n",
        "It is a destructor, called when an object is about to be destroyed (e.g., cleanup tasks). However, relying on it is discouraged since garbage collection is not deterministic."
      ],
      "metadata": {
        "id": "qoOe6Zd2QnpT"
      }
    },
    {
      "cell_type": "markdown",
      "source": [
        "#Q22\n",
        "@staticmethod: No access to class or instance (self, cls).\n",
        "\n",
        "@classmethod: Access to class (cls) but not instance."
      ],
      "metadata": {
        "id": "gY9ZP2ljQE4f"
      }
    },
    {
      "cell_type": "markdown",
      "source": [
        "#Q23\n",
        "A child class can override a parent method, and depending on the object type, the correct version is executed. This supports dynamic method resolution."
      ],
      "metadata": {
        "id": "WI_vACnxQIbj"
      }
    },
    {
      "cell_type": "markdown",
      "source": [
        "#Q24\n",
        "A technique where methods return self so multiple calls can be chained in one line:\n",
        "\n",
        "obj.set_name(\"A\").set_age(20).display()"
      ],
      "metadata": {
        "id": "OD3JML-iQLSi"
      }
    },
    {
      "cell_type": "markdown",
      "source": [
        "#Q25\n",
        "It makes an object callable like a function. If defined, you can use obj() syntax to execute code inside __call__."
      ],
      "metadata": {
        "id": "RHOMECaWQOsq"
      }
    },
    {
      "cell_type": "markdown",
      "source": [
        "# PRACTICE"
      ],
      "metadata": {
        "id": "PRciPYOuRbmw"
      }
    },
    {
      "cell_type": "code",
      "source": [
        "\n",
        " #1. Parent and Child class with method overriding\n",
        "class Animal:\n",
        "    def speak(self):\n",
        "        print(\"Animal makes a sound.\")\n",
        "\n",
        "class Dog(Animal):\n",
        "    def speak(self):\n",
        "        print(\"Bark!\")\n",
        "\n",
        "dog = Dog()\n",
        "dog.speak()\n"
      ],
      "metadata": {
        "colab": {
          "base_uri": "https://localhost:8080/"
        },
        "id": "C6fqzdxMRdq2",
        "outputId": "e2563468-4fde-4e2f-efdd-07750dc55a6d"
      },
      "execution_count": 2,
      "outputs": [
        {
          "output_type": "stream",
          "name": "stdout",
          "text": [
            "Bark!\n"
          ]
        }
      ]
    },
    {
      "cell_type": "code",
      "source": [
        "# 2. Abstract class Shape with Circle and Rectangle\n",
        "from abc import ABC, abstractmethod\n",
        "\n",
        "class Shape(ABC):\n",
        "    @abstractmethod\n",
        "    def area(self):\n",
        "        pass\n",
        "\n",
        "class Circle(Shape):\n",
        "    def __init__(self, r):\n",
        "        self.r = r\n",
        "    def area(self):\n",
        "        return 3.14 * self.r * self.r\n",
        "\n",
        "class Rectangle(Shape):\n",
        "    def __init__(self, l, w):\n",
        "        self.l, self.w = l, w\n",
        "    def area(self):\n",
        "        return self.l * self.w\n",
        "\n",
        "print(Circle(5).area())\n",
        "print(Rectangle(4, 6).area())\n"
      ],
      "metadata": {
        "colab": {
          "base_uri": "https://localhost:8080/"
        },
        "id": "MQTTXfvIRp4B",
        "outputId": "13ffb4e6-63d1-4b48-8822-98f02b54f77b"
      },
      "execution_count": 15,
      "outputs": [
        {
          "output_type": "stream",
          "name": "stdout",
          "text": [
            "78.5\n",
            "24\n"
          ]
        }
      ]
    },
    {
      "cell_type": "code",
      "source": [
        "# 3. Multi-level inheritance\n",
        "class Vehicle:\n",
        "    def __init__(self, type):\n",
        "        self.type = type\n",
        "\n",
        "class Car(Vehicle):\n",
        "    def __init__(self, type, brand):\n",
        "        super().__init__(type)\n",
        "        self.brand = brand\n",
        "\n",
        "class ElectricCar(Car):\n",
        "    def __init__(self, type, brand, battery):\n",
        "        super().__init__(type, brand)\n",
        "        self.battery = battery\n",
        "\n",
        "ecar = ElectricCar(\"Car\", \"Tesla\", \"85 kWh\")\n",
        "print(ecar.type, ecar.brand, ecar.battery)\n"
      ],
      "metadata": {
        "colab": {
          "base_uri": "https://localhost:8080/"
        },
        "id": "7VU5EUL9Rwvh",
        "outputId": "7509db47-ac62-4515-da0e-ffdc26e17ff7"
      },
      "execution_count": 14,
      "outputs": [
        {
          "output_type": "stream",
          "name": "stdout",
          "text": [
            "Car Tesla 85 kWh\n"
          ]
        }
      ]
    },
    {
      "cell_type": "code",
      "source": [
        "# 4. Polymorphism with Bird\n",
        "class Bird:\n",
        "    def fly(self):\n",
        "        print(\"Bird is flying.\")\n",
        "\n",
        "class Sparrow(Bird):\n",
        "    def fly(self):\n",
        "        print(\"Sparrow flies high.\")\n",
        "\n",
        "class Penguin(Bird):\n",
        "    def fly(self):\n",
        "        print(\"Penguin cannot fly.\")\n",
        "\n",
        "for bird in [Sparrow(), Penguin()]:\n",
        "    bird.fly()\n"
      ],
      "metadata": {
        "colab": {
          "base_uri": "https://localhost:8080/"
        },
        "id": "SvH1fNiARypY",
        "outputId": "d445954e-291f-4234-dfe9-8e2e3db2c11a"
      },
      "execution_count": 13,
      "outputs": [
        {
          "output_type": "stream",
          "name": "stdout",
          "text": [
            "Sparrow flies high.\n",
            "Penguin cannot fly.\n"
          ]
        }
      ]
    },
    {
      "cell_type": "code",
      "source": [
        "# 5. Encapsulation with BankAccount\n",
        "class BankAccount:\n",
        "    def __init__(self):\n",
        "        self.__balance = 0\n",
        "\n",
        "    def deposit(self, amount):\n",
        "        self.__balance += amount\n",
        "\n",
        "    def withdraw(self, amount):\n",
        "        if amount <= self.__balance:\n",
        "            self.__balance -= amount\n",
        "        else:\n",
        "            print(\"Insufficient funds.\")\n",
        "\n",
        "    def check_balance(self):\n",
        "        return self.__balance\n",
        "\n",
        "acc = BankAccount()\n",
        "acc.deposit(1000)\n",
        "acc.withdraw(400)\n",
        "print(acc.check_balance())\n"
      ],
      "metadata": {
        "colab": {
          "base_uri": "https://localhost:8080/"
        },
        "id": "rKMCL62gR0zA",
        "outputId": "c6988ede-f82f-4314-c8b6-763b37063845"
      },
      "execution_count": 12,
      "outputs": [
        {
          "output_type": "stream",
          "name": "stdout",
          "text": [
            "600\n"
          ]
        }
      ]
    },
    {
      "cell_type": "code",
      "source": [
        "# 6. Runtime polymorphism with Instrument\n",
        "class Instrument:\n",
        "    def play(self):\n",
        "        print(\"Playing an instrument.\")\n",
        "\n",
        "class Guitar(Instrument):\n",
        "    def play(self):\n",
        "        print(\"Playing the Guitar.\")\n",
        "\n",
        "class Piano(Instrument):\n",
        "    def play(self):\n",
        "        print(\"Playing the Piano.\")\n",
        "\n",
        "for instr in [Guitar(), Piano()]:\n",
        "    instr.play()\n"
      ],
      "metadata": {
        "colab": {
          "base_uri": "https://localhost:8080/"
        },
        "id": "Gy1xWo8iR2ok",
        "outputId": "2165a860-c2f4-4fbb-e9ce-032cb316fc74"
      },
      "execution_count": 11,
      "outputs": [
        {
          "output_type": "stream",
          "name": "stdout",
          "text": [
            "Playing the Guitar.\n",
            "Playing the Piano.\n"
          ]
        }
      ]
    },
    {
      "cell_type": "code",
      "source": [
        "# 7. Class method and static method\n",
        "class MathOperations:\n",
        "    @classmethod\n",
        "    def add_numbers(cls, a, b):\n",
        "        return a + b\n",
        "\n",
        "    @staticmethod\n",
        "    def subtract_numbers(a, b):\n",
        "        return a - b\n",
        "\n",
        "print(MathOperations.add_numbers(5, 3))\n",
        "print(MathOperations.subtract_numbers(10, 4))\n"
      ],
      "metadata": {
        "colab": {
          "base_uri": "https://localhost:8080/"
        },
        "id": "eejUPDXZR4Mj",
        "outputId": "d9e44ee4-1dbf-4a70-b2f5-da88b06861f3"
      },
      "execution_count": 10,
      "outputs": [
        {
          "output_type": "stream",
          "name": "stdout",
          "text": [
            "8\n",
            "6\n"
          ]
        }
      ]
    },
    {
      "cell_type": "code",
      "source": [
        "# 8. Counting total persons\n",
        "class Person:\n",
        "    count = 0\n",
        "    def __init__(self, name):\n",
        "        self.name = name\n",
        "        Person.count += 1\n",
        "\n",
        "    @classmethod\n",
        "    def total_persons(cls):\n",
        "        return cls.count\n",
        "\n",
        "p1 = Person(\"Alice\")\n",
        "p2 = Person(\"Bob\")\n",
        "print(Person.total_persons())\n"
      ],
      "metadata": {
        "colab": {
          "base_uri": "https://localhost:8080/"
        },
        "id": "wWaAudNcR6Oa",
        "outputId": "134aa4cd-3d4e-47e5-efe1-d8acf2cd40cb"
      },
      "execution_count": 9,
      "outputs": [
        {
          "output_type": "stream",
          "name": "stdout",
          "text": [
            "2\n"
          ]
        }
      ]
    },
    {
      "cell_type": "code",
      "source": [
        "# 9. Fraction with __str__\n",
        "class Fraction:\n",
        "    def __init__(self, num, den):\n",
        "        self.num, self.den = num, den\n",
        "\n",
        "    def __str__(self):\n",
        "        return f\"{self.num}/{self.den}\"\n",
        "\n",
        "print(Fraction(3, 4))\n"
      ],
      "metadata": {
        "colab": {
          "base_uri": "https://localhost:8080/"
        },
        "id": "axgFiRpQR8Sz",
        "outputId": "c9454802-4699-492b-fbd9-11a0f0de5beb"
      },
      "execution_count": 8,
      "outputs": [
        {
          "output_type": "stream",
          "name": "stdout",
          "text": [
            "3/4\n"
          ]
        }
      ]
    },
    {
      "cell_type": "code",
      "source": [
        "# 10. Operator overloading with Vector\n",
        "class Vector:\n",
        "    def __init__(self, x, y):\n",
        "        self.x, self.y = x, y\n",
        "\n",
        "    def __add__(self, other):\n",
        "        return Vector(self.x + other.x, self.y + other.y)\n",
        "\n",
        "    def __str__(self):\n",
        "        return f\"({self.x}, {self.y})\"\n",
        "\n",
        "v1 = Vector(1, 2)\n",
        "v2 = Vector(3, 4)\n",
        "print(v1 + v2)\n"
      ],
      "metadata": {
        "colab": {
          "base_uri": "https://localhost:8080/"
        },
        "id": "HyDF3SLjR-GV",
        "outputId": "0f925a13-a9ca-424b-8d3b-b0ae0b3fcb99"
      },
      "execution_count": 7,
      "outputs": [
        {
          "output_type": "stream",
          "name": "stdout",
          "text": [
            "(4, 6)\n"
          ]
        }
      ]
    },
    {
      "cell_type": "code",
      "source": [
        "# 11. Person with greet\n",
        "class Person:\n",
        "    def __init__(self, name, age):\n",
        "        self.name, self.age = name, age\n",
        "\n",
        "    def greet(self):\n",
        "        print(f\"Hello, my name is {self.name} and I am {self.age} years old.\")\n",
        "\n",
        "p = Person(\"Muskan\", 22)\n",
        "p.greet()\n"
      ],
      "metadata": {
        "colab": {
          "base_uri": "https://localhost:8080/"
        },
        "id": "d220NKoRR_oy",
        "outputId": "da173101-8b5f-42e9-b0f1-8b0f69cc5eee"
      },
      "execution_count": 6,
      "outputs": [
        {
          "output_type": "stream",
          "name": "stdout",
          "text": [
            "Hello, my name is Muskan and I am 22 years old.\n"
          ]
        }
      ]
    },
    {
      "cell_type": "code",
      "source": [
        "# 12. Student with average grade\n",
        "class Student:\n",
        "    def __init__(self, name, grades):\n",
        "        self.name, self.grades = name, grades\n",
        "\n",
        "    def average_grade(self):\n",
        "        return sum(self.grades) / len(self.grades)\n",
        "\n",
        "s = Student(\"Ali\", [85, 90, 95])\n",
        "print(s.average_grade())\n"
      ],
      "metadata": {
        "colab": {
          "base_uri": "https://localhost:8080/"
        },
        "id": "zmJAC5rESBR5",
        "outputId": "a991395b-5986-4a2c-cb73-107ed02e3810"
      },
      "execution_count": 5,
      "outputs": [
        {
          "output_type": "stream",
          "name": "stdout",
          "text": [
            "90.0\n"
          ]
        }
      ]
    },
    {
      "cell_type": "code",
      "source": [
        "# 13. Rectangle with area\n",
        "class Rectangle:\n",
        "    def set_dimensions(self, l, w):\n",
        "        self.l, self.w = l, w\n",
        "\n",
        "    def area(self):\n",
        "        return self.l * self.w\n",
        "\n",
        "r = Rectangle()\n",
        "r.set_dimensions(5, 3)\n",
        "print(r.area())\n"
      ],
      "metadata": {
        "colab": {
          "base_uri": "https://localhost:8080/"
        },
        "id": "Et21op7MSDIU",
        "outputId": "f941e716-e5e0-418e-90da-d123d4283c16"
      },
      "execution_count": 4,
      "outputs": [
        {
          "output_type": "stream",
          "name": "stdout",
          "text": [
            "15\n"
          ]
        }
      ]
    },
    {
      "cell_type": "code",
      "source": [
        "# 14. Employee and Manager\n",
        "class Employee:\n",
        "    def __init__(self, hours, rate):\n",
        "        self.hours, self.rate = hours, rate\n",
        "\n",
        "    def calculate_salary(self):\n",
        "        return self.hours * self.rate\n",
        "\n",
        "class Manager(Employee):\n",
        "    def __init__(self, hours, rate, bonus):\n",
        "        super().__init__(hours, rate)\n",
        "        self.bonus = bonus\n",
        "\n",
        "    def calculate_salary(self):\n",
        "        return super().calculate_salary() + self.bonus\n",
        "\n",
        "m = Manager(40, 50, 500)\n",
        "print(m.calculate_salary())\n"
      ],
      "metadata": {
        "colab": {
          "base_uri": "https://localhost:8080/"
        },
        "id": "ysvjCjS9SEx4",
        "outputId": "a5a3c7b3-af3d-46da-eaaa-2c71d10f81b6"
      },
      "execution_count": 3,
      "outputs": [
        {
          "output_type": "stream",
          "name": "stdout",
          "text": [
            "2500\n"
          ]
        }
      ]
    },
    {
      "cell_type": "code",
      "source": [
        "# 15. Product class with total price\n",
        "class Product:\n",
        "    def __init__(self, name, price, quantity):\n",
        "        self.name, self.price, self.quantity = name, price, quantity\n",
        "\n",
        "    def total_price(self):\n",
        "        return self.price * self.quantity\n",
        "\n",
        "p = Product(\"Laptop\", 50000, 2)\n",
        "print(\"Total Price:\", p.total_price())\n"
      ],
      "metadata": {
        "colab": {
          "base_uri": "https://localhost:8080/"
        },
        "id": "1Ka20DKVSRzD",
        "outputId": "8dfc7d66-f28f-41d2-f702-2b6c256cec8d"
      },
      "execution_count": 16,
      "outputs": [
        {
          "output_type": "stream",
          "name": "stdout",
          "text": [
            "Total Price: 100000\n"
          ]
        }
      ]
    },
    {
      "cell_type": "code",
      "source": [
        "# 16. Abstract class Animal with Cow and Sheep\n",
        "from abc import ABC, abstractmethod\n",
        "\n",
        "class Animal(ABC):\n",
        "    @abstractmethod\n",
        "    def sound(self):\n",
        "        pass\n",
        "\n",
        "class Cow(Animal):\n",
        "    def sound(self):\n",
        "        return \"Moo\"\n",
        "\n",
        "class Sheep(Animal):\n",
        "    def sound(self):\n",
        "        return \"Baa\"\n",
        "\n",
        "print(Cow().sound())\n",
        "print(Sheep().sound())\n"
      ],
      "metadata": {
        "colab": {
          "base_uri": "https://localhost:8080/"
        },
        "id": "VcR32djKSUQ3",
        "outputId": "51f9310d-1e36-45f0-8e38-844cb05f52cc"
      },
      "execution_count": 17,
      "outputs": [
        {
          "output_type": "stream",
          "name": "stdout",
          "text": [
            "Moo\n",
            "Baa\n"
          ]
        }
      ]
    },
    {
      "cell_type": "code",
      "source": [
        "# 17. Book with get_book_info\n",
        "class Book:\n",
        "    def __init__(self, title, author, year_published):\n",
        "        self.title, self.author, self.year = title, author, year_published\n",
        "\n",
        "    def get_book_info(self):\n",
        "        return f\"'{self.title}' by {self.author}, published in {self.year}\"\n",
        "\n",
        "b = Book(\"Python Basics\", \"John Smith\", 2021)\n",
        "print(b.get_book_info())\n"
      ],
      "metadata": {
        "colab": {
          "base_uri": "https://localhost:8080/"
        },
        "id": "ro-DXTw0SWHY",
        "outputId": "e6e285f6-1f5a-4cbc-e3b0-e6e5586b6ea4"
      },
      "execution_count": 18,
      "outputs": [
        {
          "output_type": "stream",
          "name": "stdout",
          "text": [
            "'Python Basics' by John Smith, published in 2021\n"
          ]
        }
      ]
    },
    {
      "cell_type": "code",
      "source": [
        "# 18. House and Mansion\n",
        "class House:\n",
        "    def __init__(self, address, price):\n",
        "        self.address, self.price = address, price\n",
        "\n",
        "class Mansion(House):\n",
        "    def __init__(self, address, price, number_of_rooms):\n",
        "        super().__init__(address, price)\n",
        "        self.number_of_rooms = number_of_rooms\n",
        "\n",
        "m = Mansion(\"123 Street, Delhi\", 50000000, 20)\n",
        "print(m.address, m.price, m.number_of_rooms)\n"
      ],
      "metadata": {
        "id": "ICRFtECKSYDj",
        "outputId": "8b978aa4-3018-47d8-cd0a-2fc4e1cd1be5",
        "colab": {
          "base_uri": "https://localhost:8080/"
        }
      },
      "execution_count": 19,
      "outputs": [
        {
          "output_type": "stream",
          "name": "stdout",
          "text": [
            "123 Street, Delhi 50000000 20\n"
          ]
        }
      ]
    }
  ]
}